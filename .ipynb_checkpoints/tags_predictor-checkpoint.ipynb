{
 "cells": [
  {
   "cell_type": "markdown",
   "metadata": {},
   "source": [
    "**Questions tags predictor**\n",
    "-------------------\n",
    "by<br>\n",
    "Moaz Mustafa<br>\n",
    "Muhammad Badawy<br>\n",
    "Hossam Alturkey<br>\n",
    "Ali Mohamed<br>\n",
    "Sarah Khaled<br>"
   ]
  },
  {
   "cell_type": "markdown",
   "metadata": {},
   "source": [
    "This project is about predicting the tags for Stackoverflow questions<br>\n",
    "\n",
    "This is going through many steps of loading and pre-processing the data<br>\n",
    "Then doing EDA (Exploratory Data Analysis) to visualize the data and have better understanding of the data and class distribution<br>\n",
    "Then doing topic modeling<br>\n",
    "Training mutiple models and selecting the most fitting one<br>\n",
    "And building a data pipeline to use it for prediction applications<br>\n",
    "\n",
    "\n",
    "* Reading the datasets\n",
    "\n",
    "    * Importing the Questions.csv and Tags.csv\n",
    "    * Left joining the 2 dataframes\n",
    "    * Fixing incorrect columns Datatypes\n",
    "    * Selecting the required columns\n",
    "------------\n",
    "* Data pre-processing\n",
    "\n",
    "    * Removing unwanted special chars\n",
    "    * Removing stop words\n",
    "    * Tokenization\n",
    "    * Lemmatization\n",
    "    * Stemming\n",
    "    \n",
    "------------\n",
    "* EDA (Exploratory Data Analysis)\n",
    "\n",
    "    * Sorting tags by the appearance frequency\n",
    "    * Visializing the most common tags (100 tag)\n",
    "------------\n",
    "* Topic modeling\n",
    "\n",
    "    * Clustering the questions to 15 cluster to get the most discussed 15 topic\n",
    "------------\n",
    "* Modeling pipeline\n",
    "\n",
    "    * Encoding the input\n",
    "    * Vectorize the input (TfIdf)\n",
    "    * Splitting the df to training and testing\n",
    "    * Implementing the evaluation functions\n",
    "    * Training multiple models to get the best model\n",
    "    * Evaluating and selecting the best model duo to the defined evaluation function\n",
    "------------\n",
    "* Building an inverse pipeline to predict tags on real applications"
   ]
  },
  {
   "cell_type": "markdown",
   "metadata": {},
   "source": [
    "We start by importing our assets"
   ]
  },
  {
   "cell_type": "code",
   "execution_count": 5,
   "metadata": {},
   "outputs": [],
   "source": [
    "# data manipulation\n",
    "import pandas as pd\n",
    "import numpy as np\n",
    "import re\n",
    "\n",
    "# visualization\n",
    "import seaborn as sns\n",
    "import matplotlib as mpl\n",
    "import matplotlib.pyplot as plt\n",
    "\n",
    "\n",
    "# data cleaning and preprocessing\n",
    "import nltk\n",
    "from nltk.corpus import stopwords\n",
    "import string\n",
    "from nltk.tokenize import RegexpTokenizer\n",
    "from nltk.stem import WordNetLemmatizer\n",
    "from nltk.stem.porter import PorterStemmer\n",
    "\n",
    "#Topic Modeling\n",
    "import gensim\n",
    "from gensim import corpora\n",
    "\n",
    "#Learning\n",
    "from sklearn.feature_extraction.text import CountVectorizer, TfidfTransformer, TfidfVectorizer\n",
    "from sklearn.svm import SVC\n",
    "from sklearn.naive_bayes import MultinomialNB\n",
    "from sklearn.model_selection import train_test_split\n",
    "from sklearn.pipeline import Pipeline\n",
    "from sklearn.metrics import confusion_matrix, classification_report,accuracy_score, hamming_loss\n",
    "from sklearn.preprocessing import MultiLabelBinarizer\n",
    "from sklearn.multiclass import OneVsRestClassifier\n",
    "from sklearn.svm import LinearSVC\n",
    "from sklearn.preprocessing import OneHotEncoder\n",
    "from sklearn.linear_model import SGDClassifier, LogisticRegression, Perceptron, PassiveAggressiveClassifier"
   ]
  },
  {
   "cell_type": "markdown",
   "metadata": {},
   "source": [
    "Dataset with the text of 10% of questions and answers from the Stack Overflow programming Q&A website.\n",
    "\n",
    "This is organized as three tables:\n",
    "\n",
    "- Questions contains the title, body, creation date, closed date (if applicable), score, and owner ID for all non-deleted Stack Overflow questions whose Id is a multiple of 10.\n",
    "- Answers contains the body, creation date, score, and owner ID for each of the answers to these questions. The ParentId column links back to the Questions table.\n",
    "- Tags contains the tags on each of these questions\n",
    "\n",
    "But we only used Questions and Tags tables"
   ]
  },
  {
   "cell_type": "markdown",
   "metadata": {},
   "source": [
    "Let's read our dataset<br>\n",
    "Tags column contains chars with different encoding than utf-8 so we use latin-1"
   ]
  },
  {
   "cell_type": "code",
   "execution_count": 6,
   "metadata": {},
   "outputs": [],
   "source": [
    "# read the dataset from csv file\n",
    "questions_df = pd.read_csv('Questions.csv', encoding='latin-1', skiprows=0, nrows=10000)\n",
    "tags_df = pd.read_csv('Tags.csv', encoding='latin-1')"
   ]
  },
  {
   "cell_type": "markdown",
   "metadata": {},
   "source": [
    "Tags column contains float values, so we convert the whole column to str"
   ]
  },
  {
   "cell_type": "code",
   "execution_count": 7,
   "metadata": {},
   "outputs": [],
   "source": [
    "tags_df.Tag = tags_df.Tag.astype(str)"
   ]
  },
  {
   "cell_type": "markdown",
   "metadata": {},
   "source": [
    "Now let's left join the dataframes into a single dataframe"
   ]
  },
  {
   "cell_type": "code",
   "execution_count": 8,
   "metadata": {},
   "outputs": [],
   "source": [
    "# tags_df.dtypes\n",
    "tags_df = tags_df.groupby('Id')['Tag'].apply(list).reset_index()\n",
    "df = pd.merge(questions_df, tags_df, on='Id', how='left')"
   ]
  },
  {
   "cell_type": "markdown",
   "metadata": {},
   "source": [
    "Convert the datetime column<br>\n",
    "selecting only the needed columns"
   ]
  },
  {
   "cell_type": "code",
   "execution_count": 9,
   "metadata": {},
   "outputs": [],
   "source": [
    "# convert the tweet_created column to a valid date column\n",
    "df['date']= pd.to_datetime(df['CreationDate'])\n",
    "\n",
    "#select the required columns and ignore the rest\n",
    "df = df[['Title', 'Body', 'Tag', 'date']]\n",
    "\n",
    "df.dropna(inplace=True)\n",
    "df.drop_duplicates(subset =\"Title\", \n",
    "                     keep = False, inplace = True) "
   ]
  },
  {
   "cell_type": "code",
   "execution_count": 10,
   "metadata": {},
   "outputs": [
    {
     "data": {
      "text/html": [
       "<div>\n",
       "<style scoped>\n",
       "    .dataframe tbody tr th:only-of-type {\n",
       "        vertical-align: middle;\n",
       "    }\n",
       "\n",
       "    .dataframe tbody tr th {\n",
       "        vertical-align: top;\n",
       "    }\n",
       "\n",
       "    .dataframe thead th {\n",
       "        text-align: right;\n",
       "    }\n",
       "</style>\n",
       "<table border=\"1\" class=\"dataframe\">\n",
       "  <thead>\n",
       "    <tr style=\"text-align: right;\">\n",
       "      <th></th>\n",
       "      <th>Title</th>\n",
       "      <th>Body</th>\n",
       "      <th>Tag</th>\n",
       "      <th>date</th>\n",
       "    </tr>\n",
       "  </thead>\n",
       "  <tbody>\n",
       "    <tr>\n",
       "      <td>0</td>\n",
       "      <td>SQLStatement.execute() - multiple queries in o...</td>\n",
       "      <td>&lt;p&gt;I've written a database generation script i...</td>\n",
       "      <td>[flex, actionscript-3, air]</td>\n",
       "      <td>2008-08-01 13:57:07+00:00</td>\n",
       "    </tr>\n",
       "    <tr>\n",
       "      <td>1</td>\n",
       "      <td>Good branching and merging tutorials for Torto...</td>\n",
       "      <td>&lt;p&gt;Are there any really good tutorials explain...</td>\n",
       "      <td>[svn, tortoisesvn, branch, branching-and-merging]</td>\n",
       "      <td>2008-08-01 14:41:24+00:00</td>\n",
       "    </tr>\n",
       "    <tr>\n",
       "      <td>2</td>\n",
       "      <td>ASP.NET Site Maps</td>\n",
       "      <td>&lt;p&gt;Has anyone got experience creating &lt;strong&gt;...</td>\n",
       "      <td>[sql, asp.net, sitemap]</td>\n",
       "      <td>2008-08-01 15:50:08+00:00</td>\n",
       "    </tr>\n",
       "    <tr>\n",
       "      <td>3</td>\n",
       "      <td>Function for creating color wheels</td>\n",
       "      <td>&lt;p&gt;This is something I've pseudo-solved many t...</td>\n",
       "      <td>[algorithm, language-agnostic, colors, color-s...</td>\n",
       "      <td>2008-08-01 18:42:19+00:00</td>\n",
       "    </tr>\n",
       "    <tr>\n",
       "      <td>4</td>\n",
       "      <td>Adding scripting functionality to .NET applica...</td>\n",
       "      <td>&lt;p&gt;I have a little game written in C#. It uses...</td>\n",
       "      <td>[c#, .net, scripting, compiler-construction]</td>\n",
       "      <td>2008-08-01 23:22:08+00:00</td>\n",
       "    </tr>\n",
       "  </tbody>\n",
       "</table>\n",
       "</div>"
      ],
      "text/plain": [
       "                                               Title  \\\n",
       "0  SQLStatement.execute() - multiple queries in o...   \n",
       "1  Good branching and merging tutorials for Torto...   \n",
       "2                                  ASP.NET Site Maps   \n",
       "3                 Function for creating color wheels   \n",
       "4  Adding scripting functionality to .NET applica...   \n",
       "\n",
       "                                                Body  \\\n",
       "0  <p>I've written a database generation script i...   \n",
       "1  <p>Are there any really good tutorials explain...   \n",
       "2  <p>Has anyone got experience creating <strong>...   \n",
       "3  <p>This is something I've pseudo-solved many t...   \n",
       "4  <p>I have a little game written in C#. It uses...   \n",
       "\n",
       "                                                 Tag                      date  \n",
       "0                        [flex, actionscript-3, air] 2008-08-01 13:57:07+00:00  \n",
       "1  [svn, tortoisesvn, branch, branching-and-merging] 2008-08-01 14:41:24+00:00  \n",
       "2                            [sql, asp.net, sitemap] 2008-08-01 15:50:08+00:00  \n",
       "3  [algorithm, language-agnostic, colors, color-s... 2008-08-01 18:42:19+00:00  \n",
       "4       [c#, .net, scripting, compiler-construction] 2008-08-01 23:22:08+00:00  "
      ]
     },
     "execution_count": 10,
     "metadata": {},
     "output_type": "execute_result"
    }
   ],
   "source": [
    "df.head()"
   ]
  },
  {
   "cell_type": "markdown",
   "metadata": {},
   "source": [
    "Let's check the data types of the columns"
   ]
  },
  {
   "cell_type": "code",
   "execution_count": 12,
   "metadata": {},
   "outputs": [
    {
     "data": {
      "text/plain": [
       "Title                 object\n",
       "Body                  object\n",
       "Tag                   object\n",
       "date     datetime64[ns, UTC]\n",
       "dtype: object"
      ]
     },
     "execution_count": 12,
     "metadata": {},
     "output_type": "execute_result"
    }
   ],
   "source": [
    "df.dtypes"
   ]
  },
  {
   "cell_type": "markdown",
   "metadata": {},
   "source": [
    "Counting the tags and get the most used tags to be used in the next few cells"
   ]
  },
  {
   "cell_type": "code",
   "execution_count": 11,
   "metadata": {},
   "outputs": [],
   "source": [
    "lists = df['Tag']\n",
    "\n",
    "flat_list = []\n",
    "for one_list in lists:\n",
    "    for elem in one_list:\n",
    "        flat_list.append(elem)\n",
    "\n",
    "keywords = nltk.FreqDist(flat_list)\n",
    "\n",
    "frequencies_words = keywords.most_common(100)\n",
    "tags_features = [word[0] for word in frequencies_words]\n",
    "\n",
    "keywords = keywords.most_common(10)"
   ]
  },
  {
   "cell_type": "markdown",
   "metadata": {},
   "source": [
    "defining a shortened punctuation words to be used in normalization and cleaning"
   ]
  },
  {
   "cell_type": "code",
   "execution_count": 13,
   "metadata": {
    "jupyter": {
     "source_hidden": true
    }
   },
   "outputs": [],
   "source": [
    "contractions = {\n",
    "\"ain't\": \"am not / are not\",\n",
    "\"aren't\": \"are not / am not\",\n",
    "\"can't\": \"cannot\",\n",
    "\"can't've\": \"cannot have\",\n",
    "\"'cause\": \"because\",\n",
    "\"could've\": \"could have\",\n",
    "\"couldn't\": \"could not\",\n",
    "\"couldn't've\": \"could not have\",\n",
    "\"didn't\": \"did not\",\n",
    "\"doesn't\": \"does not\",\n",
    "\"don't\": \"do not\",\n",
    "\"hadn't\": \"had not\",\n",
    "\"hadn't've\": \"had not have\",\n",
    "\"hasn't\": \"has not\",\n",
    "\"haven't\": \"have not\",\n",
    "\"he'd\": \"he had / he would\",\n",
    "\"he'd've\": \"he would have\",\n",
    "\"he'll\": \"he shall / he will\",\n",
    "\"he'll've\": \"he shall have / he will have\",\n",
    "\"he's\": \"he has / he is\",\n",
    "\"how'd\": \"how did\",\n",
    "\"how'd'y\": \"how do you\",\n",
    "\"how'll\": \"how will\",\n",
    "\"how's\": \"how has / how is\",\n",
    "\"i'd\": \"I had / I would\",\n",
    "\"i'd've\": \"I would have\",\n",
    "\"i'll\": \"I shall / I will\",\n",
    "\"i'll've\": \"I shall have / I will have\",\n",
    "\"i'm\": \"I am\",\n",
    "\"i've\": \"I have\",\n",
    "\"isn't\": \"is not\",\n",
    "\"it'd\": \"it had / it would\",\n",
    "\"it'd've\": \"it would have\",\n",
    "\"it'll\": \"it shall / it will\",\n",
    "\"it'll've\": \"it shall have / it will have\",\n",
    "\"it's\": \"it has / it is\",\n",
    "\"let's\": \"let us\",\n",
    "\"ma'am\": \"madam\",\n",
    "\"mayn't\": \"may not\",\n",
    "\"might've\": \"might have\",\n",
    "\"mightn't\": \"might not\",\n",
    "\"mightn't've\": \"might not have\",\n",
    "\"must've\": \"must have\",\n",
    "\"mustn't\": \"must not\",\n",
    "\"mustn't've\": \"must not have\",\n",
    "\"needn't\": \"need not\",\n",
    "\"needn't've\": \"need not have\",\n",
    "\"o'clock\": \"of the clock\",\n",
    "\"oughtn't\": \"ought not\",\n",
    "\"oughtn't've\": \"ought not have\",\n",
    "\"shan't\": \"shall not\",\n",
    "\"sha'n't\": \"shall not\",\n",
    "\"shan't've\": \"shall not have\",\n",
    "\"she'd\": \"she had / she would\",\n",
    "\"she'd've\": \"she would have\",\n",
    "\"she'll\": \"she shall / she will\",\n",
    "\"she'll've\": \"she shall have / she will have\",\n",
    "\"she's\": \"she has / she is\",\n",
    "\"should've\": \"should have\",\n",
    "\"shouldn't\": \"should not\",\n",
    "\"shouldn't've\": \"should not have\",\n",
    "\"so've\": \"so have\",\n",
    "\"so's\": \"so as / so is\",\n",
    "\"that'd\": \"that would / that had\",\n",
    "\"that'd've\": \"that would have\",\n",
    "\"that's\": \"that has / that is\",\n",
    "\"there'd\": \"there had / there would\",\n",
    "\"there'd've\": \"there would have\",\n",
    "\"there's\": \"there has / there is\",\n",
    "\"they'd\": \"they had / they would\",\n",
    "\"they'd've\": \"they would have\",\n",
    "\"they'll\": \"they shall / they will\",\n",
    "\"they'll've\": \"they shall have / they will have\",\n",
    "\"they're\": \"they are\",\n",
    "\"they've\": \"they have\",\n",
    "\"to've\": \"to have\",\n",
    "\"wasn't\": \"was not\",\n",
    "\"we'd\": \"we had / we would\",\n",
    "\"we'd've\": \"we would have\",\n",
    "\"we'll\": \"we will\",\n",
    "\"we'll've\": \"we will have\",\n",
    "\"we're\": \"we are\",\n",
    "\"we've\": \"we have\",\n",
    "\"weren't\": \"were not\",\n",
    "\"what'll\": \"what shall / what will\",\n",
    "\"what'll've\": \"what shall have / what will have\",\n",
    "\"what're\": \"what are\",\n",
    "\"what's\": \"what has / what is\",\n",
    "\"what've\": \"what have\",\n",
    "\"when's\": \"when has / when is\",\n",
    "\"when've\": \"when have\",\n",
    "\"where'd\": \"where did\",\n",
    "\"where's\": \"where has / where is\",\n",
    "\"where've\": \"where have\",\n",
    "\"who'll\": \"who shall / who will\",\n",
    "\"who'll've\": \"who shall have / who will have\",\n",
    "\"who's\": \"who has / who is\",\n",
    "\"who've\": \"who have\",\n",
    "\"why's\": \"why has / why is\",\n",
    "\"why've\": \"why have\",\n",
    "\"will've\": \"will have\",\n",
    "\"won't\": \"will not\",\n",
    "\"won't've\": \"will not have\",\n",
    "\"would've\": \"would have\",\n",
    "\"wouldn't\": \"would not\",\n",
    "\"wouldn't've\": \"would not have\",\n",
    "\"y'all\": \"you all\",\n",
    "\"y'all'd\": \"you all would\",\n",
    "\"y'all'd've\": \"you all would have\",\n",
    "\"y'all're\": \"you all are\",\n",
    "\"y'all've\": \"you all have\",\n",
    "\"you'd\": \"you had / you would\",\n",
    "\"you'd've\": \"you would have\",\n",
    "\"you'll\": \"you shall / you will\",\n",
    "\"you'll've\": \"you shall have / you will have\",\n",
    "\"you're\": \"you are\",\n",
    "\"you've\": \"you have\"\n",
    "}"
   ]
  },
  {
   "cell_type": "markdown",
   "metadata": {},
   "source": [
    "Defining the functions that will be used in cleaning\n",
    "\n",
    "It will work by\n",
    "1. we remove any unwanted punctuations\n",
    "2. Tokenize the words\n",
    "3. Removing the English stopwords\n",
    "4. Doing Lemmatization\n",
    "5. Stemming all the tokens"
   ]
  },
  {
   "cell_type": "code",
   "execution_count": 14,
   "metadata": {},
   "outputs": [],
   "source": [
    "def normalize_apostrophe(text):\n",
    "    for i in range(len(text)):\n",
    "        if text[i].lower() in contractions:\n",
    "            text[i] = contractions[text[i].lower()]\n",
    "    return text\n",
    "\n",
    "\n",
    "def most_common(tags):\n",
    "    tags_filtered = []\n",
    "    for i in range(0, len(tags)):\n",
    "        if tags[i] in tags_features:\n",
    "            tags_filtered.append(tags[i])\n",
    "    return tags_filtered\n",
    "\n",
    "\n",
    "\n",
    "def clean_column(dur_df, column):\n",
    "    dur_df[column] = dur_df[column].apply( lambda x: \"\".join([w for w in x if w not in '!\"$%&\\'()*,/:;<=>?@[\\]^`{|}~']) )\n",
    "\n",
    "    tokenizer = RegexpTokenizer(r'\\w+')\n",
    "    dur_df[column] = dur_df[column].apply( lambda x: tokenizer.tokenize(x.lower()) )\n",
    "    \n",
    "    dur_df[column] = dur_df[column].apply(normalize_apostrophe)\n",
    "\n",
    "    dur_df[column] = dur_df[column].apply( lambda x: [w for w in x if w not in stopwords.words('english')] )\n",
    "\n",
    "    lemmatizer = WordNetLemmatizer()\n",
    "    dur_df[column] = dur_df[column].apply( lambda x: [lemmatizer.lemmatize(w) for w in x] )\n",
    "\n",
    "    stemmer = PorterStemmer()\n",
    "    dur_df[column] = dur_df[column].apply( lambda x: [stemmer.stem(w) for w in x] )\n",
    "    \n",
    "    return dur_df"
   ]
  },
  {
   "cell_type": "code",
   "execution_count": 15,
   "metadata": {},
   "outputs": [],
   "source": [
    "df = clean_column(df, 'Title')\n",
    "df = clean_column(df, 'Body')\n",
    "\n",
    "df['Tag'] = df['Tag'].apply(lambda x: most_common(x))\n",
    "df['Tag'] = df['Tag'].apply(lambda x: x if len(x)>0 else None)"
   ]
  },
  {
   "cell_type": "code",
   "execution_count": 16,
   "metadata": {},
   "outputs": [
    {
     "data": {
      "text/html": [
       "<div>\n",
       "<style scoped>\n",
       "    .dataframe tbody tr th:only-of-type {\n",
       "        vertical-align: middle;\n",
       "    }\n",
       "\n",
       "    .dataframe tbody tr th {\n",
       "        vertical-align: top;\n",
       "    }\n",
       "\n",
       "    .dataframe thead th {\n",
       "        text-align: right;\n",
       "    }\n",
       "</style>\n",
       "<table border=\"1\" class=\"dataframe\">\n",
       "  <thead>\n",
       "    <tr style=\"text-align: right;\">\n",
       "      <th></th>\n",
       "      <th>Title</th>\n",
       "      <th>Body</th>\n",
       "      <th>Tag</th>\n",
       "      <th>date</th>\n",
       "    </tr>\n",
       "  </thead>\n",
       "  <tbody>\n",
       "    <tr>\n",
       "      <td>0</td>\n",
       "      <td>[sqlstatement, execut, multipl, queri, one, st...</td>\n",
       "      <td>[pive, written, databas, gener, script, hrefht...</td>\n",
       "      <td>[flex, actionscript-3]</td>\n",
       "      <td>2008-08-01 13:57:07+00:00</td>\n",
       "    </tr>\n",
       "    <tr>\n",
       "      <td>1</td>\n",
       "      <td>[good, branch, merg, tutori, tortoisesvn]</td>\n",
       "      <td>[pare, realli, good, tutori, explain, hrefhttp...</td>\n",
       "      <td>[svn]</td>\n",
       "      <td>2008-08-01 14:41:24+00:00</td>\n",
       "    </tr>\n",
       "    <tr>\n",
       "      <td>2</td>\n",
       "      <td>[asp, net, site, map]</td>\n",
       "      <td>[pha, anyon, got, experi, creat, strongsql, ba...</td>\n",
       "      <td>[sql, asp.net]</td>\n",
       "      <td>2008-08-01 15:50:08+00:00</td>\n",
       "    </tr>\n",
       "    <tr>\n",
       "      <td>3</td>\n",
       "      <td>[function, creat, color, wheel]</td>\n",
       "      <td>[pthi, someth, ive, pseudo, solv, mani, time, ...</td>\n",
       "      <td>[algorithm, language-agnostic]</td>\n",
       "      <td>2008-08-01 18:42:19+00:00</td>\n",
       "    </tr>\n",
       "    <tr>\n",
       "      <td>4</td>\n",
       "      <td>[ad, script, function, net, applic]</td>\n",
       "      <td>[pi, littl, game, written, c, us, databas, bac...</td>\n",
       "      <td>[c#, .net, scripting]</td>\n",
       "      <td>2008-08-01 23:22:08+00:00</td>\n",
       "    </tr>\n",
       "  </tbody>\n",
       "</table>\n",
       "</div>"
      ],
      "text/plain": [
       "                                               Title  \\\n",
       "0  [sqlstatement, execut, multipl, queri, one, st...   \n",
       "1          [good, branch, merg, tutori, tortoisesvn]   \n",
       "2                              [asp, net, site, map]   \n",
       "3                    [function, creat, color, wheel]   \n",
       "4                [ad, script, function, net, applic]   \n",
       "\n",
       "                                                Body  \\\n",
       "0  [pive, written, databas, gener, script, hrefht...   \n",
       "1  [pare, realli, good, tutori, explain, hrefhttp...   \n",
       "2  [pha, anyon, got, experi, creat, strongsql, ba...   \n",
       "3  [pthi, someth, ive, pseudo, solv, mani, time, ...   \n",
       "4  [pi, littl, game, written, c, us, databas, bac...   \n",
       "\n",
       "                              Tag                      date  \n",
       "0          [flex, actionscript-3] 2008-08-01 13:57:07+00:00  \n",
       "1                           [svn] 2008-08-01 14:41:24+00:00  \n",
       "2                  [sql, asp.net] 2008-08-01 15:50:08+00:00  \n",
       "3  [algorithm, language-agnostic] 2008-08-01 18:42:19+00:00  \n",
       "4           [c#, .net, scripting] 2008-08-01 23:22:08+00:00  "
      ]
     },
     "execution_count": 16,
     "metadata": {},
     "output_type": "execute_result"
    }
   ],
   "source": [
    "df.head()"
   ]
  },
  {
   "cell_type": "markdown",
   "metadata": {},
   "source": [
    "I defined a function that\n",
    "1. takes the column and calculates the counts of tags\n",
    "2. displays a bar chart"
   ]
  },
  {
   "cell_type": "code",
   "execution_count": 17,
   "metadata": {},
   "outputs": [],
   "source": [
    "def get_analysis(target, color=\"cyan\", samples_limit=10):\n",
    "    required = df[df[target].str.len() > 0]\n",
    "    required = required[target]\n",
    "    required = pd.Series(sum([item for item in required], [])).value_counts()\n",
    "    required = required[:samples_limit]\n",
    "    \n",
    "    plt.figure(figsize=(18, 3))\n",
    "    plt.bar(range(len(required)), list(required), color=color)\n",
    "    plt.xticks(range(len(required)), list(required.keys()))\n",
    "    plt.show()"
   ]
  },
  {
   "cell_type": "markdown",
   "metadata": {},
   "source": [
    "The next steps we compare the top 10 most used tags"
   ]
  },
  {
   "cell_type": "code",
   "execution_count": 18,
   "metadata": {},
   "outputs": [
    {
     "name": "stdout",
     "output_type": "stream",
     "text": [
      "Tags analysis\n"
     ]
    },
    {
     "data": {
      "image/png": "[encoded data removed]",
      "text/plain": [
       "<Figure size 1296x216 with 1 Axes>"
      ]
     },
     "metadata": {
      "needs_background": "light"
     },
     "output_type": "display_data"
    }
   ],
   "source": [
    "print(\"Tags analysis\")\n",
    "get_analysis('Tag', 'cyan', 10)"
   ]
  },
  {
   "cell_type": "markdown",
   "metadata": {},
   "source": [
    "**Topic modeling**\n",
    "--------------------\n",
    "\n",
    "Now to the topic modeling part, we will try to make the cluster the titles to 15 topics and see the results and try to indicate the these topics"
   ]
  },
  {
   "cell_type": "code",
   "execution_count": 19,
   "metadata": {},
   "outputs": [],
   "source": [
    "dictionary = corpora.Dictionary(df['Title'])\n",
    "corpus = [dictionary.doc2bow(text) for text in df['Title']]"
   ]
  },
  {
   "cell_type": "code",
   "execution_count": 20,
   "metadata": {},
   "outputs": [
    {
     "name": "stdout",
     "output_type": "stream",
     "text": [
      "(0, '0.054*\"error\" + 0.026*\"row\" + 0.024*\"report\" + 0.020*\"ad\" + 0.020*\"field\" + 0.018*\"wpf\"')\n",
      "(1, '0.063*\"window\" + 0.030*\"servic\" + 0.028*\"rail\" + 0.026*\"display\" + 0.025*\"cs\" + 0.023*\"rubi\"')\n",
      "(2, '0.200*\"net\" + 0.107*\"asp\" + 0.068*\"control\" + 0.035*\"mvc\" + 0.024*\"applic\" + 0.024*\"framework\"')\n",
      "(3, '0.072*\"object\" + 0.057*\"test\" + 0.053*\"method\" + 0.040*\"chang\" + 0.031*\"html\" + 0.027*\"thread\"')\n",
      "(4, '0.084*\"c\" + 0.083*\"file\" + 0.030*\"xml\" + 0.029*\"convert\" + 0.028*\"text\" + 0.027*\"line\"')\n",
      "(5, '0.067*\"web\" + 0.045*\"app\" + 0.042*\"databas\" + 0.034*\"use\" + 0.030*\"url\" + 0.026*\"program\"')\n",
      "(6, '0.048*\"differ\" + 0.041*\"good\" + 0.039*\"2\" + 0.032*\"design\" + 0.031*\"0\" + 0.028*\"1\"')\n",
      "(7, '0.039*\"file\" + 0.038*\"build\" + 0.035*\"work\" + 0.031*\"load\" + 0.024*\"flex\" + 0.022*\"flash\"')\n",
      "(8, '0.036*\"use\" + 0.027*\"write\" + 0.026*\"document\" + 0.022*\"page\" + 0.019*\"interfac\" + 0.019*\"save\"')\n",
      "(9, '0.072*\"string\" + 0.050*\"queri\" + 0.041*\"store\" + 0.034*\"number\" + 0.031*\"version\" + 0.025*\"express\"')\n",
      "(10, '0.100*\"sql\" + 0.083*\"server\" + 0.032*\"imag\" + 0.032*\"run\" + 0.022*\"connect\" + 0.021*\"2005\"')\n",
      "(11, '0.052*\"tabl\" + 0.049*\"visual\" + 0.046*\"name\" + 0.041*\"studio\" + 0.037*\"column\" + 0.035*\"add\"')\n",
      "(12, '0.077*\"java\" + 0.033*\"problem\" + 0.032*\"call\" + 0.031*\"jqueri\" + 0.030*\"updat\" + 0.026*\"event\"')\n",
      "(13, '0.077*\"way\" + 0.073*\"best\" + 0.025*\"develop\" + 0.023*\"project\" + 0.022*\"tool\" + 0.021*\"what\"')\n",
      "(14, '0.044*\"use\" + 0.037*\"get\" + 0.036*\"function\" + 0.036*\"valu\" + 0.030*\"class\" + 0.029*\"c\"')\n"
     ]
    }
   ],
   "source": [
    "ldamodel = gensim.models.ldamodel.LdaModel(corpus, num_topics = 15, id2word=dictionary, passes=15)\n",
    "topics = ldamodel.print_topics(num_words=6)\n",
    "for topic in topics:\n",
    "    print(topic)"
   ]
  },
  {
   "cell_type": "markdown",
   "metadata": {},
   "source": [
    "Let's get back to text manipulating and get the text ready to be fed to aour model"
   ]
  },
  {
   "cell_type": "code",
   "execution_count": 23,
   "metadata": {},
   "outputs": [],
   "source": [
    "df.Title = df.Title.apply( lambda x: \" \".join(x) )"
   ]
  },
  {
   "cell_type": "code",
   "execution_count": 24,
   "metadata": {},
   "outputs": [],
   "source": [
    "df.Body = df.Body.apply( lambda x: \" \".join(x) )"
   ]
  },
  {
   "cell_type": "code",
   "execution_count": 25,
   "metadata": {},
   "outputs": [],
   "source": [
    "df['Text'] = df['Title'] + \" \" + df['Body']"
   ]
  },
  {
   "cell_type": "code",
   "execution_count": 26,
   "metadata": {},
   "outputs": [],
   "source": [
    "df = df[ df.Tag.notnull() ]"
   ]
  },
  {
   "cell_type": "code",
   "execution_count": 27,
   "metadata": {},
   "outputs": [
    {
     "data": {
      "text/html": [
       "<div>\n",
       "<style scoped>\n",
       "    .dataframe tbody tr th:only-of-type {\n",
       "        vertical-align: middle;\n",
       "    }\n",
       "\n",
       "    .dataframe tbody tr th {\n",
       "        vertical-align: top;\n",
       "    }\n",
       "\n",
       "    .dataframe thead th {\n",
       "        text-align: right;\n",
       "    }\n",
       "</style>\n",
       "<table border=\"1\" class=\"dataframe\">\n",
       "  <thead>\n",
       "    <tr style=\"text-align: right;\">\n",
       "      <th></th>\n",
       "      <th>Title</th>\n",
       "      <th>Body</th>\n",
       "      <th>Tag</th>\n",
       "      <th>date</th>\n",
       "      <th>Text</th>\n",
       "    </tr>\n",
       "  </thead>\n",
       "  <tbody>\n",
       "    <tr>\n",
       "      <td>0</td>\n",
       "      <td>sqlstatement execut multipl queri one statement</td>\n",
       "      <td>pive written databas gener script hrefhttpen w...</td>\n",
       "      <td>[flex, actionscript-3]</td>\n",
       "      <td>2008-08-01 13:57:07+00:00</td>\n",
       "      <td>sqlstatement execut multipl queri one statemen...</td>\n",
       "    </tr>\n",
       "    <tr>\n",
       "      <td>1</td>\n",
       "      <td>good branch merg tutori tortoisesvn</td>\n",
       "      <td>pare realli good tutori explain hrefhttpsvnboo...</td>\n",
       "      <td>[svn]</td>\n",
       "      <td>2008-08-01 14:41:24+00:00</td>\n",
       "      <td>good branch merg tutori tortoisesvn pare reall...</td>\n",
       "    </tr>\n",
       "    <tr>\n",
       "      <td>2</td>\n",
       "      <td>asp net site map</td>\n",
       "      <td>pha anyon got experi creat strongsql base asp ...</td>\n",
       "      <td>[sql, asp.net]</td>\n",
       "      <td>2008-08-01 15:50:08+00:00</td>\n",
       "      <td>asp net site map pha anyon got experi creat st...</td>\n",
       "    </tr>\n",
       "    <tr>\n",
       "      <td>3</td>\n",
       "      <td>function creat color wheel</td>\n",
       "      <td>pthi someth ive pseudo solv mani time never qu...</td>\n",
       "      <td>[algorithm, language-agnostic]</td>\n",
       "      <td>2008-08-01 18:42:19+00:00</td>\n",
       "      <td>function creat color wheel pthi someth ive pse...</td>\n",
       "    </tr>\n",
       "    <tr>\n",
       "      <td>4</td>\n",
       "      <td>ad script function net applic</td>\n",
       "      <td>pi littl game written c us databas back end hr...</td>\n",
       "      <td>[c#, .net, scripting]</td>\n",
       "      <td>2008-08-01 23:22:08+00:00</td>\n",
       "      <td>ad script function net applic pi littl game wr...</td>\n",
       "    </tr>\n",
       "  </tbody>\n",
       "</table>\n",
       "</div>"
      ],
      "text/plain": [
       "                                             Title  \\\n",
       "0  sqlstatement execut multipl queri one statement   \n",
       "1              good branch merg tutori tortoisesvn   \n",
       "2                                 asp net site map   \n",
       "3                       function creat color wheel   \n",
       "4                    ad script function net applic   \n",
       "\n",
       "                                                Body  \\\n",
       "0  pive written databas gener script hrefhttpen w...   \n",
       "1  pare realli good tutori explain hrefhttpsvnboo...   \n",
       "2  pha anyon got experi creat strongsql base asp ...   \n",
       "3  pthi someth ive pseudo solv mani time never qu...   \n",
       "4  pi littl game written c us databas back end hr...   \n",
       "\n",
       "                              Tag                      date  \\\n",
       "0          [flex, actionscript-3] 2008-08-01 13:57:07+00:00   \n",
       "1                           [svn] 2008-08-01 14:41:24+00:00   \n",
       "2                  [sql, asp.net] 2008-08-01 15:50:08+00:00   \n",
       "3  [algorithm, language-agnostic] 2008-08-01 18:42:19+00:00   \n",
       "4           [c#, .net, scripting] 2008-08-01 23:22:08+00:00   \n",
       "\n",
       "                                                Text  \n",
       "0  sqlstatement execut multipl queri one statemen...  \n",
       "1  good branch merg tutori tortoisesvn pare reall...  \n",
       "2  asp net site map pha anyon got experi creat st...  \n",
       "3  function creat color wheel pthi someth ive pse...  \n",
       "4  ad script function net applic pi littl game wr...  "
      ]
     },
     "execution_count": 27,
     "metadata": {},
     "output_type": "execute_result"
    }
   ],
   "source": [
    "df.head()"
   ]
  },
  {
   "cell_type": "markdown",
   "metadata": {},
   "source": [
    "Before we start training, Let's check for class imbalance"
   ]
  },
  {
   "cell_type": "code",
   "execution_count": 84,
   "metadata": {},
   "outputs": [
    {
     "name": "stdout",
     "output_type": "stream",
     "text": [
      "Tags analysis\n"
     ]
    },
    {
     "data": {
      "image/png": "[encoded data removed]",
      "text/plain": [
       "<Figure size 1296x216 with 1 Axes>"
      ]
     },
     "metadata": {
      "needs_background": "light"
     },
     "output_type": "display_data"
    }
   ],
   "source": [
    "print(\"Class Balance\")\n",
    "get_analysis('Tag', 'red', 10)"
   ]
  },
  {
   "cell_type": "markdown",
   "metadata": {},
   "source": [
    "And there is class imbalance!, but we can't go for data augmentation or get more data samples, and if we remove data from the bigger class, we will lose alot of useful data, So let's focus on choosing our model"
   ]
  },
  {
   "cell_type": "markdown",
   "metadata": {},
   "source": [
    "-------------------\n",
    "Let's build the pipeline of the model\n",
    "\n",
    "\n",
    "1. Encoding the input using multi label binarizer\n",
    "2. Vectorize the input (TfIdf)\n",
    "3. Splitting the df to training and testing\n",
    "4. Implementing the evaluation functions\n",
    "5. Training multiple models to get the best model\n",
    "6. Evaluating and selecting the best model duo to the defined evaluation function\n"
   ]
  },
  {
   "cell_type": "code",
   "execution_count": 28,
   "metadata": {},
   "outputs": [],
   "source": [
    "multilabel_binarizer = MultiLabelBinarizer()\n",
    "y_bin = multilabel_binarizer.fit_transform(df['Tag'])"
   ]
  },
  {
   "cell_type": "code",
   "execution_count": 29,
   "metadata": {},
   "outputs": [],
   "source": [
    "vectorizer = TfidfVectorizer(analyzer = 'word',\n",
    "                                       min_df=0.0,\n",
    "                                       max_df = 1.0,\n",
    "                                       strip_accents = None,\n",
    "                                       encoding = 'utf-8', \n",
    "                                       preprocessor=None,\n",
    "                                       token_pattern=r\"(?u)\\S\\S+\",\n",
    "                                       max_features=1000)"
   ]
  },
  {
   "cell_type": "code",
   "execution_count": 30,
   "metadata": {},
   "outputs": [],
   "source": [
    "X_tfidf = vectorizer.fit_transform(df['Text'])"
   ]
  },
  {
   "cell_type": "markdown",
   "metadata": {},
   "source": [
    "Split the data into train and test"
   ]
  },
  {
   "cell_type": "code",
   "execution_count": 31,
   "metadata": {},
   "outputs": [],
   "source": [
    "X_train, X_test, y_train, y_test = train_test_split(X_tfidf, y_bin, test_size = 0.2, random_state = 0)"
   ]
  },
  {
   "cell_type": "markdown",
   "metadata": {},
   "source": [
    "defining evaluation method"
   ]
  },
  {
   "cell_type": "code",
   "execution_count": 32,
   "metadata": {},
   "outputs": [],
   "source": [
    "def avg_jacard(y_true,y_pred):\n",
    "    '''\n",
    "    see https://en.wikipedia.org/wiki/Multi-label_classification#Statistics_and_evaluation_metrics\n",
    "    '''\n",
    "    jacard = np.minimum(y_true,y_pred).sum(axis=1) / np.maximum(y_true,y_pred).sum(axis=1)\n",
    "    \n",
    "    return jacard.mean()*100\n",
    "\n",
    "def print_score(y_pred, clf):\n",
    "    print(\"Clf: \", clf.__class__.__name__)\n",
    "    print(\"Jacard score: {}\".format(avg_jacard(y_test, y_pred)))\n",
    "    print(\"Hamming loss: {}\".format(hamming_loss(y_pred, y_test)*100))\n",
    "    print(\"---\")"
   ]
  },
  {
   "cell_type": "markdown",
   "metadata": {},
   "source": [
    "Training multiple models and evaluating the resualts"
   ]
  },
  {
   "cell_type": "code",
   "execution_count": 39,
   "metadata": {},
   "outputs": [
    {
     "name": "stdout",
     "output_type": "stream",
     "text": [
      "Clf:  SGDClassifier\n",
      "Jacard score: 34.3898895990703\n",
      "Hamming loss: 1.273097036606624\n",
      "---\n",
      "Clf:  LogisticRegression\n",
      "Jacard score: 19.54580670153012\n",
      "Hamming loss: 1.4474142940151076\n",
      "---\n",
      "Clf:  MultinomialNB\n",
      "Jacard score: 1.7383304280457097\n",
      "Hamming loss: 1.651365485183033\n",
      "---\n",
      "Clf:  LinearSVC\n",
      "Jacard score: 34.6968816579508\n",
      "Hamming loss: 1.316676350958745\n",
      "---\n",
      "Clf:  Perceptron\n",
      "Jacard score: 32.06040231316234\n",
      "Hamming loss: 1.9628123184195236\n",
      "---\n"
     ]
    }
   ],
   "source": [
    "sgd = SGDClassifier()\n",
    "lr = LogisticRegression()\n",
    "mn = MultinomialNB()\n",
    "svc = LinearSVC()\n",
    "perceptron = Perceptron()\n",
    "\n",
    "for classifier in [sgd, lr, mn, svc, perceptron]:\n",
    "    clf = OneVsRestClassifier(classifier)\n",
    "    clf.fit(X_train, y_train)\n",
    "    y_pred = clf.predict(X_test)\n",
    "    print_score(y_pred, classifier)\n",
    "\n"
   ]
  },
  {
   "cell_type": "markdown",
   "metadata": {},
   "source": [
    "------------------------------\n",
    "The best model is LinearSVC with OneVsRestClassifier approach with score:<br>\n",
    "```\n",
    "Jacard score: 34.6968816579508\n",
    "Hamming loss: 1.316676350958745\n",
    "```"
   ]
  },
  {
   "cell_type": "code",
   "execution_count": 40,
   "metadata": {},
   "outputs": [
    {
     "name": "stdout",
     "output_type": "stream",
     "text": [
      "Clf:  OneVsRestClassifier\n",
      "Jacard score: 34.6968816579508\n",
      "Hamming loss: 1.316676350958745\n",
      "---\n"
     ]
    }
   ],
   "source": [
    "clf = OneVsRestClassifier(LinearSVC())\n",
    "clf.fit(X_train, y_train)\n",
    "y_pred = clf.predict(X_test)\n",
    "print_score(y_pred, clf)"
   ]
  },
  {
   "cell_type": "markdown",
   "metadata": {},
   "source": [
    "Let's try to predict the first 20 of question from the testing set and compare the results"
   ]
  },
  {
   "cell_type": "code",
   "execution_count": 41,
   "metadata": {},
   "outputs": [],
   "source": [
    "def predict_question(index):\n",
    "    pred = clf.predict(X_test[index])\n",
    "#     question = vectorizer.inverse_transform(X_test[index])[0]\n",
    "    real_tags = multilabel_binarizer.inverse_transform(y_test[index].reshape(1,100))\n",
    "    predicted_tags = multilabel_binarizer.inverse_transform(pred)\n",
    "\n",
    "#     print(\" \".join(question))\n",
    "    print(real_tags)\n",
    "    print(predicted_tags)\n",
    "    print('------------')"
   ]
  },
  {
   "cell_type": "code",
   "execution_count": 42,
   "metadata": {},
   "outputs": [
    {
     "name": "stdout",
     "output_type": "stream",
     "text": [
      "[('firefox', 'javascript', 'performance')]\n",
      "[('javascript', 'performance')]\n",
      "------------\n",
      "[('iphone',)]\n",
      "[('caching', 'iphone')]\n",
      "------------\n",
      "[('asp.net-mvc',)]\n",
      "[('asp.net-mvc',)]\n",
      "------------\n",
      "[('firefox', 'javascript', 'jquery')]\n",
      "[('firefox', 'javascript', 'jquery')]\n",
      "------------\n",
      "[('svn', 'version-control')]\n",
      "[('svn',)]\n",
      "------------\n",
      "[('c#',)]\n",
      "[()]\n",
      "------------\n",
      "[('arrays', 'c#', 'optimization')]\n",
      "[('c++',)]\n",
      "------------\n",
      "[('asp.net',)]\n",
      "[('asp.net',)]\n",
      "------------\n",
      "[('internet-explorer', 'javascript')]\n",
      "[('html',)]\n",
      "------------\n",
      "[('networking',)]\n",
      "[()]\n",
      "------------\n",
      "[('ajax', 'asp.net-mvc')]\n",
      "[('asp.net-mvc',)]\n",
      "------------\n",
      "[('eclipse', 'svn')]\n",
      "[('eclipse', 'svn')]\n",
      "------------\n",
      "[('asp.net', 'pdf')]\n",
      "[('pdf',)]\n",
      "------------\n",
      "[('sharepoint',)]\n",
      "[('sharepoint',)]\n",
      "------------\n",
      "[('c++',)]\n",
      "[('c++',)]\n",
      "------------\n",
      "[('algorithm',)]\n",
      "[('algorithm',)]\n",
      "------------\n",
      "[('html',)]\n",
      "[()]\n",
      "------------\n",
      "[('c++',)]\n",
      "[('c', 'c++')]\n",
      "------------\n",
      "[('.net', 'c#', 'windows')]\n",
      "[('.net', 'c#')]\n",
      "------------\n",
      "[('.net', 'javascript', 'web-services')]\n",
      "[('asp.net',)]\n",
      "------------\n"
     ]
    }
   ],
   "source": [
    "for i in range(20):\n",
    "    predict_question(i)"
   ]
  },
  {
   "cell_type": "markdown",
   "metadata": {},
   "source": [
    "----------------------\n",
    "Let's take a look at all the tags we got"
   ]
  },
  {
   "cell_type": "code",
   "execution_count": 36,
   "metadata": {},
   "outputs": [
    {
     "data": {
      "text/plain": [
       "array(['.net', '.net-2.0', '.net-3.5', 'actionscript-3', 'ajax',\n",
       "       'algorithm', 'apache', 'architecture', 'arrays', 'asp-classic',\n",
       "       'asp.net', 'asp.net-mvc', 'c', 'c#', 'c++', 'caching', 'cocoa',\n",
       "       'cocoa-touch', 'css', 'data-binding', 'database',\n",
       "       'database-design', 'date', 'debugging', 'delphi', 'deployment',\n",
       "       'design', 'design-patterns', 'django', 'eclipse', 'events',\n",
       "       'excel', 'exception', 'file', 'firefox', 'flash', 'flex', 'forms',\n",
       "       'generics', 'html', 'http', 'iis', 'image', 'internet-explorer',\n",
       "       'iphone', 'java', 'javascript', 'jquery', 'language-agnostic',\n",
       "       'linq', 'linq-to-sql', 'linux', 'logging', 'multithreading',\n",
       "       'mysql', 'networking', 'nhibernate', 'objective-c', 'oop',\n",
       "       'optimization', 'oracle', 'osx', 'parsing', 'pdf', 'performance',\n",
       "       'perl', 'php', 'python', 'regex', 'ruby', 'ruby-on-rails',\n",
       "       'scripting', 'security', 'session', 'sharepoint', 'silverlight',\n",
       "       'sql', 'sql-server', 'sql-server-2005', 'string', 'svn', 'testing',\n",
       "       'tsql', 'unit-testing', 'unix', 'url', 'user-interface', 'vb.net',\n",
       "       'version-control', 'visual-c++', 'visual-studio',\n",
       "       'visual-studio-2008', 'wcf', 'web-applications', 'web-services',\n",
       "       'winapi', 'windows', 'winforms', 'wpf', 'xml'], dtype=object)"
      ]
     },
     "execution_count": 36,
     "metadata": {},
     "output_type": "execute_result"
    }
   ],
   "source": [
    "multilabel_binarizer.classes_"
   ]
  },
  {
   "cell_type": "markdown",
   "metadata": {},
   "source": [
    "--------------------------------\n",
    "let's build an inverse pipeline to predict tags on real applications"
   ]
  },
  {
   "cell_type": "code",
   "execution_count": 52,
   "metadata": {},
   "outputs": [],
   "source": [
    "#Claening functions\n",
    "\n",
    "tokenizer = RegexpTokenizer(r'\\w+')\n",
    "stemmer = PorterStemmer()\n",
    "lemmatizer = WordNetLemmatizer()\n",
    "\n",
    "def clean_text(text):\n",
    "    text = \"\".join([w for w in text if w not in '!\"$%&\\'()*,/:;<=>?@[\\]^`{|}~'])\n",
    "    text = tokenizer.tokenize(text.lower())\n",
    "    \n",
    "    text = normalize_apostrophe(text)\n",
    "    text = [w for w in text if w not in stopwords.words('english')]\n",
    "    \n",
    "    text = [lemmatizer.lemmatize(w) for w in text]\n",
    "    text = [stemmer.stem(w) for w in text]\n",
    "    \n",
    "    return text"
   ]
  },
  {
   "cell_type": "code",
   "execution_count": 83,
   "metadata": {},
   "outputs": [],
   "source": [
    "#prediction function\n",
    "\n",
    "def predict_question(text):\n",
    "    cleaned_text = clean_text(text)\n",
    "    vectorized_question = vectorizer.transform(cleaned_text)\n",
    "    \n",
    "    pred = clf.predict(vectorized_question)\n",
    "    predicted_tags = multilabel_binarizer.inverse_transform(pred)\n",
    "\n",
    "    flat = []\n",
    "    for cur_set in predicted_tags:\n",
    "        for elem in list(cur_set):\n",
    "            flat.append(elem)\n",
    "    return set(flat)"
   ]
  },
  {
   "cell_type": "markdown",
   "metadata": {},
   "source": [
    "Tring with a real question from stackoverflow : https://stackoverflow.com/questions/38138100/addtransient-addscoped-and-addsingleton-services-differences"
   ]
  },
  {
   "cell_type": "code",
   "execution_count": 80,
   "metadata": {},
   "outputs": [
    {
     "data": {
      "text/plain": [
       "{'.net', 'asp-classic', 'asp.net', 'c#', 'web-services'}"
      ]
     },
     "execution_count": 80,
     "metadata": {},
     "output_type": "execute_result"
    }
   ],
   "source": [
    "res = predict_question('''\n",
    "\n",
    "I want to implement dependency injection (DI) in ASP.NET Core. So after adding this code to ConfigureServices method, both ways work.\n",
    "\n",
    "What is the difference between the services.AddTransient and service.AddScoped methods in ASP.NET Core?\n",
    "\n",
    "public void ConfigureServices(IServiceCollection services)\n",
    "{\n",
    "    // Add framework services.\n",
    "\n",
    "    // Add application services.\n",
    "    services.AddTransient<IEmailSender, AuthMessageSender>();\n",
    "    services.AddScoped<IEmailSender, AuthMessageSender>();\n",
    "}\n",
    "\n",
    "''')\n",
    "\n",
    "res"
   ]
  },
  {
   "cell_type": "code",
   "execution_count": null,
   "metadata": {},
   "outputs": [],
   "source": []
  }
 ],
 "metadata": {
  "kernelspec": {
   "display_name": "Python 3",
   "language": "python",
   "name": "python3"
  },
  "language_info": {
   "codemirror_mode": {
    "name": "ipython",
    "version": 3
   },
   "file_extension": ".py",
   "mimetype": "text/x-python",
   "name": "python",
   "nbconvert_exporter": "python",
   "pygments_lexer": "ipython3",
   "version": "3.7.4"
  }
 },
 "nbformat": 4,
 "nbformat_minor": 4
}
